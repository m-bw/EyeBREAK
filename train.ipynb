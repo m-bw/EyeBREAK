{
 "cells": [
  {
   "cell_type": "code",
   "execution_count": 1,
   "metadata": {},
   "outputs": [
    {
     "name": "stderr",
     "output_type": "stream",
     "text": [
      "2023-05-26 20:42:09.725517: I tensorflow/core/platform/cpu_feature_guard.cc:182] This TensorFlow binary is optimized to use available CPU instructions in performance-critical operations.\n",
      "To enable the following instructions: FMA, in other operations, rebuild TensorFlow with the appropriate compiler flags.\n"
     ]
    }
   ],
   "source": [
    "from pathlib import Path\n",
    "import random\n",
    "import numpy as np\n",
    "import optuna\n",
    "from parse import parse\n",
    "\n",
    "import os\n",
    "import torch\n",
    "from torch import optim, nn, utils, Tensor\n",
    "import pytorch_lightning as pl\n",
    "import albumentations as A\n",
    "from albumentations.pytorch import ToTensorV2\n",
    "\n",
    "random.seed(69)"
   ]
  },
  {
   "cell_type": "code",
   "execution_count": 2,
   "metadata": {},
   "outputs": [
    {
     "data": {
      "text/plain": [
       "<Result () {'subject': 's0007', 'img_num': 461, 'gender': 0, 'glasses': 0, 'eye_state': 0, 'reflections': 0, 'quality': 1, 'sensor': 1}>"
      ]
     },
     "execution_count": 2,
     "metadata": {},
     "output_type": "execute_result"
    }
   ],
   "source": [
    "def parse_filename(name):\n",
    "    #print(name)\n",
    "    return parse(\"{subject}_{img_num:d}_{gender:d}_{glasses:d}_{eye_state:d}_{reflections:d}_{quality:d}_{sensor:d}.png\", name)\n",
    "\n",
    "parse_filename(next(next(Path(\"mrlEyes_2018_01\").iterdir()).iterdir()).name)"
   ]
  },
  {
   "cell_type": "code",
   "execution_count": 3,
   "metadata": {},
   "outputs": [],
   "source": [
    "import cv2\n",
    "transform = A.ReplayCompose([\n",
    "        A.RandomBrightnessContrast(brightness_limit=0.6, contrast_limit=0.2, brightness_by_max=False),\n",
    "        A.ShiftScaleRotate(shift_limit=0.2, rotate_limit=15),\n",
    "        A.LongestMaxSize(36),\n",
    "        ToTensorV2(),\n",
    "    ])"
   ]
  },
  {
   "cell_type": "code",
   "execution_count": 4,
   "metadata": {},
   "outputs": [],
   "source": [
    "from torch.utils.data import Dataset\n",
    "\n",
    "class MRLEyeDataset(Dataset):\n",
    "    def __init__(self, imgs, transform=None):\n",
    "        self.imgs = imgs\n",
    "        self.transform=transform\n",
    "\n",
    "    def __len__(self):\n",
    "        return len(self.imgs)\n",
    "\n",
    "    def __getitem__(self, idx):\n",
    "        img_path = self.imgs[idx]\n",
    "        img = cv2.imread(str(img_path), cv2.IMREAD_GRAYSCALE).astype(np.float32) / 255.0\n",
    "        label = torch.as_tensor(parse_filename(self.imgs[idx].name)[\"eye_state\"], dtype=torch.float)\n",
    "        label = torch.reshape(label, (1,))\n",
    "        if self.transform:\n",
    "            img = self.transform(image=img)[\"image\"]\n",
    "        return img, label"
   ]
  },
  {
   "cell_type": "code",
   "execution_count": 5,
   "metadata": {},
   "outputs": [
    {
     "data": {
      "text/plain": [
       "84898"
      ]
     },
     "execution_count": 5,
     "metadata": {},
     "output_type": "execute_result"
    }
   ],
   "source": [
    "TRAIN_TEST_SPLIT = 0.9\n",
    "img_paths = list(Path(\"mrlEyes_2018_01\").glob(\"**/*.png\"))\n",
    "split_idx = int(len(img_paths) * TRAIN_TEST_SPLIT)\n",
    "train_paths = img_paths[:split_idx]\n",
    "test_paths = img_paths[split_idx:]\n",
    "\n",
    "train_dataset = MRLEyeDataset(train_paths, transform=transform)\n",
    "test_dataset = MRLEyeDataset(test_paths, transform=transform)\n",
    "\n",
    "len(img_paths)"
   ]
  },
  {
   "cell_type": "code",
   "execution_count": 6,
   "metadata": {},
   "outputs": [],
   "source": [
    "train_loader = utils.data.DataLoader(train_dataset, batch_size=256, shuffle=True)\n",
    "test_loader = utils.data.DataLoader(test_dataset, batch_size=1000, shuffle=True)"
   ]
  },
  {
   "cell_type": "code",
   "execution_count": 7,
   "metadata": {},
   "outputs": [],
   "source": [
    "import torch.nn.functional as F\n",
    "from torch.optim import lr_scheduler\n",
    "\n",
    "from torchmetrics import Accuracy\n",
    "\n",
    "class Dumb(nn.Module):\n",
    "    def __init__(self):\n",
    "        super().__init__()\n",
    "        self.conv1 = nn.Conv2d(1, 4, 3)\n",
    "        self.conv2 = nn.Conv2d(4, 6, 3)\n",
    "        self.fc1 = nn.Linear(6 * 7 * 7, 36)\n",
    "        self.fc2 = nn.Linear(36, 1)\n",
    "\n",
    "    def forward(self, x):\n",
    "        x = F.max_pool2d(F.relu(self.conv1(x)), 2)\n",
    "        x = F.max_pool2d(F.relu(self.conv2(x)), 2)\n",
    "        x = torch.flatten(x, 1)\n",
    "        x = F.relu(self.fc1(x))\n",
    "        y_hat = F.sigmoid(self.fc2(x))\n",
    "        return y_hat\n",
    "\n",
    "\n",
    "class DumbModel(pl.LightningModule):\n",
    "    def __init__(self, model):\n",
    "        super().__init__()\n",
    "        self.model = model\n",
    "        self.train_acc = Accuracy(task=\"binary\")\n",
    "        self.val_acc = Accuracy(task=\"binary\")\n",
    "\n",
    "    def training_step(self, batch, batch_idx):\n",
    "        x, y = batch\n",
    "        y_hat = self.model(x)\n",
    "        loss = F.binary_cross_entropy(y_hat, y)\n",
    "        self.train_acc(y_hat, y)\n",
    "        # Logging to TensorBoard (if installed) by default\n",
    "        self.log(\"train_loss\", loss, prog_bar=True, on_step=True, on_epoch=True)\n",
    "        return loss\n",
    "\n",
    "    def validation_step(self, batch, batch_idx):\n",
    "        x, y = batch\n",
    "        y_hat = self.model(x)\n",
    "        loss = F.binary_cross_entropy(y_hat, y)\n",
    "        self.val_acc(y_hat, y)\n",
    "        # Logging to TensorBoard (if installed) by default\n",
    "        self.log(\"val_loss\", loss, prog_bar=True, on_step=False, on_epoch=True)\n",
    "        return loss\n",
    "\n",
    "   \n",
    "    def configure_optimizers(self):\n",
    "        optimizer = optim.AdamW(self.parameters(), lr=1e-2)\n",
    "        scheduler = lr_scheduler.ReduceLROnPlateau(optimizer, patience=3)\n",
    "        return [optimizer], [{\"scheduler\": scheduler, \"monitor\": \"val_loss\"}]\n",
    "\n",
    "class AccCallback(pl.Callback):\n",
    "    def on_train_epoch_end(self, trainer, pl_module):\n",
    "        epoch_mean = pl_module.log(\"train_acc_epoch\", pl_module.train_acc, prog_bar=True)\n",
    "    def on_validation_epoch_end(self, trainer, pl_module):\n",
    "        epoch_mean = pl_module.log(\"val_acc_epoch\", pl_module.val_acc, prog_bar=True)"
   ]
  },
  {
   "cell_type": "code",
   "execution_count": 8,
   "metadata": {},
   "outputs": [
    {
     "name": "stderr",
     "output_type": "stream",
     "text": [
      "GPU available: True (cuda), used: True\n",
      "TPU available: False, using: 0 TPU cores\n",
      "IPU available: False, using: 0 IPUs\n",
      "HPU available: False, using: 0 HPUs\n",
      "`Trainer(limit_train_batches=1.0)` was configured so 100% of the batches per epoch will be used..\n",
      "LOCAL_RANK: 0 - CUDA_VISIBLE_DEVICES: [0]\n",
      "\n",
      "  | Name      | Type           | Params\n",
      "---------------------------------------------\n",
      "0 | model     | Dumb           | 10.9 K\n",
      "1 | train_acc | BinaryAccuracy | 0     \n",
      "2 | val_acc   | BinaryAccuracy | 0     \n",
      "---------------------------------------------\n",
      "10.9 K    Trainable params\n",
      "0         Non-trainable params\n",
      "10.9 K    Total params\n",
      "0.044     Total estimated model params size (MB)\n"
     ]
    },
    {
     "name": "stdout",
     "output_type": "stream",
     "text": [
      "Epoch 39: 100%|██████████| 299/299 [00:43<00:00,  6.81it/s, v_num=161, train_loss_step=0.105, val_loss=0.0809, val_acc_epoch=0.970, train_loss_epoch=0.0791, train_acc_epoch=0.971] "
     ]
    },
    {
     "name": "stderr",
     "output_type": "stream",
     "text": [
      "`Trainer.fit` stopped: `max_epochs=40` reached.\n"
     ]
    },
    {
     "name": "stdout",
     "output_type": "stream",
     "text": [
      "Epoch 39: 100%|██████████| 299/299 [00:43<00:00,  6.81it/s, v_num=161, train_loss_step=0.105, val_loss=0.0809, val_acc_epoch=0.970, train_loss_epoch=0.0791, train_acc_epoch=0.971]\n"
     ]
    }
   ],
   "source": [
    "from pytorch_lightning.callbacks.early_stopping import EarlyStopping\n",
    "\n",
    "dumb = Dumb()\n",
    "model = DumbModel(dumb)\n",
    "\n",
    "trainer = pl.Trainer(limit_train_batches=1.0, max_epochs=40, callbacks=[AccCallback(), EarlyStopping(monitor=\"val_loss\", mode=\"min\", patience=5)])\n",
    "trainer.fit(model=model, train_dataloaders=train_loader, val_dataloaders=test_loader)"
   ]
  },
  {
   "cell_type": "code",
   "execution_count": 9,
   "metadata": {},
   "outputs": [
    {
     "name": "stdout",
     "output_type": "stream",
     "text": [
      "tensor([[37332.,   763.],\n",
      "        [ 1447., 36866.]]) tensor([[3746.,  105.],\n",
      "        [ 146., 4493.]])\n"
     ]
    }
   ],
   "source": [
    "nb_classes = 2\n",
    "device = 'cuda'\n",
    "\n",
    "def confused(loader):\n",
    "    confusion_matrix = torch.zeros(nb_classes, nb_classes)\n",
    "    with torch.no_grad():\n",
    "        for i, (inputs, classes) in enumerate(loader):\n",
    "            outputs = dumb(inputs)\n",
    "            preds = outputs > 0.5\n",
    "            for t, p in zip(classes.view(-1), preds.view(-1)):\n",
    "                    confusion_matrix[t.long(), p.long()] += 1\n",
    "    return confusion_matrix\n",
    "\n",
    "print(confused(train_loader), confused(test_loader))"
   ]
  },
  {
   "cell_type": "code",
   "execution_count": 11,
   "metadata": {},
   "outputs": [
    {
     "data": {
      "text/plain": [
       "tensor(0.9694)"
      ]
     },
     "execution_count": 11,
     "metadata": {},
     "output_type": "execute_result"
    }
   ],
   "source": [
    "confusion_matrix = confused(test_loader)\n",
    "torch.trace(confusion_matrix) / torch.sum(confusion_matrix)"
   ]
  },
  {
   "cell_type": "code",
   "execution_count": 13,
   "metadata": {},
   "outputs": [
    {
     "data": {
      "image/png": "[encoded data removed]",
      "text/plain": [
       "<Figure size 1200x600 with 10 Axes>"
      ]
     },
     "metadata": {},
     "output_type": "display_data"
    }
   ],
   "source": [
    "from matplotlib import pyplot as plt\n",
    "\n",
    "\n",
    "def display_image_grid(dataloader, rows=2, cols=5):\n",
    "    figure, ax = plt.subplots(nrows=rows, ncols=cols, figsize=(12, 6))\n",
    "    bad_imgs = []\n",
    "    bad_labels = []\n",
    "    with torch.no_grad():\n",
    "        for batch in dataloader:\n",
    "            batch_x, batch_y = batch\n",
    "            batch_y_hat = (dumb(batch_x) > 0.5).float()\n",
    "            bad, _ = torch.where(batch_y != batch_y_hat)\n",
    "            #print(bad)\n",
    "            for bad_i in bad:\n",
    "                bad_imgs.append(batch_x[bad_i])\n",
    "                bad_labels.append(batch_y_hat[bad_i])\n",
    "            if len(bad_imgs) >= rows*cols:\n",
    "                break\n",
    "    for i, img in enumerate(bad_imgs[:rows*cols]):\n",
    "        ax.ravel()[i].imshow(img.reshape((36, 36)), cmap='gray')\n",
    "        ax.ravel()[i].set_title(bad_labels[i], color='r')\n",
    "        ax.ravel()[i].set_axis_off()\n",
    "    plt.tight_layout()\n",
    "    plt.show()\n",
    "\n",
    "display_image_grid(train_loader)"
   ]
  },
  {
   "attachments": {},
   "cell_type": "markdown",
   "metadata": {},
   "source": [
    "see https://github.com/sithu31296/PyTorch-ONNX-TFLite for conversion tutorial"
   ]
  },
  {
   "cell_type": "code",
   "execution_count": 16,
   "metadata": {},
   "outputs": [
    {
     "name": "stdout",
     "output_type": "stream",
     "text": [
      "10k_cnn\n",
      "================ Diagnostic Run torch.onnx.export version 2.0.1 ================\n",
      "verbose: False, log level: Level.ERROR\n",
      "======================= 0 NONE 0 NOTE 0 WARNING 0 ERROR ========================\n",
      "\n"
     ]
    }
   ],
   "source": [
    "model_name = f\"{sum(p.numel() for p in dumb.parameters()) // 1000}k_cnn\"\n",
    "print(model_name)\n",
    "torch.save(dumb.state_dict(), f\"{model_name}.torch\")\n",
    "ex_x, ex_y = next(iter(test_loader))\n",
    "ex_x_1 = torch.unsqueeze(ex_x[0], 0)\n",
    "torch.onnx.export(dumb, ex_x_1, f\"{model_name}.onnx\", input_names=[\"conv1\"]) #dynamic_axes={\"conv1\": {0: \"batch_size\"}})"
   ]
  },
  {
   "cell_type": "code",
   "execution_count": 17,
   "metadata": {},
   "outputs": [
    {
     "name": "stdout",
     "output_type": "stream",
     "text": [
      "graph torch_jit (\n",
      "  %conv1[FLOAT, 1x1x36x36]\n",
      ") initializers (\n",
      "  %conv1.weight[FLOAT, 4x1x3x3]\n",
      "  %conv1.bias[FLOAT, 4]\n",
      "  %conv2.weight[FLOAT, 6x4x3x3]\n",
      "  %conv2.bias[FLOAT, 6]\n",
      "  %fc1.weight[FLOAT, 36x294]\n",
      "  %fc1.bias[FLOAT, 36]\n",
      "  %fc3.weight[FLOAT, 1x36]\n",
      "  %fc3.bias[FLOAT, 1]\n",
      ") {\n",
      "  %/conv1/Conv_output_0 = Conv[dilations = [1, 1], group = 1, kernel_shape = [3, 3], pads = [0, 0, 0, 0], strides = [1, 1]](%conv1, %conv1.weight, %conv1.bias)\n",
      "  %/Relu_output_0 = Relu(%/conv1/Conv_output_0)\n",
      "  %/MaxPool_output_0 = MaxPool[ceil_mode = 0, kernel_shape = [2, 2], pads = [0, 0, 0, 0], strides = [2, 2]](%/Relu_output_0)\n",
      "  %/conv2/Conv_output_0 = Conv[dilations = [1, 1], group = 1, kernel_shape = [3, 3], pads = [0, 0, 0, 0], strides = [1, 1]](%/MaxPool_output_0, %conv2.weight, %conv2.bias)\n",
      "  %/Relu_1_output_0 = Relu(%/conv2/Conv_output_0)\n",
      "  %/MaxPool_1_output_0 = MaxPool[ceil_mode = 0, kernel_shape = [2, 2], pads = [0, 0, 0, 0], strides = [2, 2]](%/Relu_1_output_0)\n",
      "  %/Flatten_output_0 = Flatten[axis = 1](%/MaxPool_1_output_0)\n",
      "  %/fc1/Gemm_output_0 = Gemm[alpha = 1, beta = 1, transB = 1](%/Flatten_output_0, %fc1.weight, %fc1.bias)\n",
      "  %/Relu_2_output_0 = Relu(%/fc1/Gemm_output_0)\n",
      "  %/fc3/Gemm_output_0 = Gemm[alpha = 1, beta = 1, transB = 1](%/Relu_2_output_0, %fc3.weight, %fc3.bias)\n",
      "  %19 = Sigmoid(%/fc3/Gemm_output_0)\n",
      "  return %19\n",
      "}\n"
     ]
    }
   ],
   "source": [
    "import onnx\n",
    "\n",
    "# Load the ONNX model\n",
    "onnx_model = onnx.load(f\"{model_name}.onnx\")\n",
    "\n",
    "# Check that the IR is well formed\n",
    "onnx.checker.check_model(onnx_model)\n",
    "\n",
    "# Print a Human readable representation of the graph\n",
    "print(onnx.helper.printable_graph(onnx_model.graph))"
   ]
  },
  {
   "attachments": {},
   "cell_type": "markdown",
   "metadata": {},
   "source": [
    "need `tensorflow-probability`, `tensorflow-addons`"
   ]
  },
  {
   "cell_type": "code",
   "execution_count": 18,
   "metadata": {},
   "outputs": [
    {
     "name": "stderr",
     "output_type": "stream",
     "text": [
      "2023-05-26 21:16:44.213610: I tensorflow/compiler/xla/stream_executor/cuda/cuda_gpu_executor.cc:996] successful NUMA node read from SysFS had negative value (-1), but there must be at least one NUMA node, so returning NUMA node zero. See more at https://github.com/torvalds/linux/blob/v6.0/Documentation/ABI/testing/sysfs-bus-pci#L344-L355\n",
      "2023-05-26 21:16:44.220593: I tensorflow/compiler/xla/stream_executor/cuda/cuda_gpu_executor.cc:996] successful NUMA node read from SysFS had negative value (-1), but there must be at least one NUMA node, so returning NUMA node zero. See more at https://github.com/torvalds/linux/blob/v6.0/Documentation/ABI/testing/sysfs-bus-pci#L344-L355\n",
      "2023-05-26 21:16:44.220941: I tensorflow/compiler/xla/stream_executor/cuda/cuda_gpu_executor.cc:996] successful NUMA node read from SysFS had negative value (-1), but there must be at least one NUMA node, so returning NUMA node zero. See more at https://github.com/torvalds/linux/blob/v6.0/Documentation/ABI/testing/sysfs-bus-pci#L344-L355\n",
      "2023-05-26 21:16:44.226158: I tensorflow/compiler/xla/stream_executor/cuda/cuda_gpu_executor.cc:996] successful NUMA node read from SysFS had negative value (-1), but there must be at least one NUMA node, so returning NUMA node zero. See more at https://github.com/torvalds/linux/blob/v6.0/Documentation/ABI/testing/sysfs-bus-pci#L344-L355\n",
      "2023-05-26 21:16:44.226351: I tensorflow/compiler/xla/stream_executor/cuda/cuda_gpu_executor.cc:996] successful NUMA node read from SysFS had negative value (-1), but there must be at least one NUMA node, so returning NUMA node zero. See more at https://github.com/torvalds/linux/blob/v6.0/Documentation/ABI/testing/sysfs-bus-pci#L344-L355\n",
      "2023-05-26 21:16:44.226480: I tensorflow/compiler/xla/stream_executor/cuda/cuda_gpu_executor.cc:996] successful NUMA node read from SysFS had negative value (-1), but there must be at least one NUMA node, so returning NUMA node zero. See more at https://github.com/torvalds/linux/blob/v6.0/Documentation/ABI/testing/sysfs-bus-pci#L344-L355\n",
      "2023-05-26 21:16:44.226738: I tensorflow/compiler/xla/stream_executor/cuda/cuda_gpu_executor.cc:996] successful NUMA node read from SysFS had negative value (-1), but there must be at least one NUMA node, so returning NUMA node zero. See more at https://github.com/torvalds/linux/blob/v6.0/Documentation/ABI/testing/sysfs-bus-pci#L344-L355\n",
      "2023-05-26 21:16:44.227311: I tensorflow/compiler/xla/stream_executor/cuda/cuda_gpu_executor.cc:996] successful NUMA node read from SysFS had negative value (-1), but there must be at least one NUMA node, so returning NUMA node zero. See more at https://github.com/torvalds/linux/blob/v6.0/Documentation/ABI/testing/sysfs-bus-pci#L344-L355\n",
      "2023-05-26 21:16:44.227450: I tensorflow/compiler/xla/stream_executor/cuda/cuda_gpu_executor.cc:996] successful NUMA node read from SysFS had negative value (-1), but there must be at least one NUMA node, so returning NUMA node zero. See more at https://github.com/torvalds/linux/blob/v6.0/Documentation/ABI/testing/sysfs-bus-pci#L344-L355\n",
      "2023-05-26 21:16:44.227576: I tensorflow/core/common_runtime/gpu/gpu_device.cc:1635] Created device /job:localhost/replica:0/task:0/device:GPU:0 with 2828 MB memory:  -> device: 0, name: NVIDIA GeForce RTX 2060, pci bus id: 0000:09:00.0, compute capability: 7.5\n",
      "2023-05-26 21:16:44.228650: I tensorflow/core/common_runtime/process_util.cc:146] Creating new thread pool with default inter op setting: 2. Tune using inter_op_parallelism_threads for best performance.\n",
      "WARNING:absl:Found untraced functions such as gen_tensor_dict while saving (showing 1 of 1). These functions will not be directly callable after loading.\n"
     ]
    },
    {
     "name": "stdout",
     "output_type": "stream",
     "text": [
      "INFO:tensorflow:Assets written to: 10k_cnn.tf/assets\n"
     ]
    },
    {
     "name": "stderr",
     "output_type": "stream",
     "text": [
      "INFO:tensorflow:Assets written to: 10k_cnn.tf/assets\n"
     ]
    }
   ],
   "source": [
    "import tensorflow as tf\n",
    "from importlib import reload\n",
    "import sys\n",
    "from onnx_tf.backend import prepare\n",
    "\n",
    "tf_rep = prepare(onnx_model)\n",
    "tf_rep.export_graph(f\"{model_name}.tf\")"
   ]
  },
  {
   "cell_type": "code",
   "execution_count": 19,
   "metadata": {},
   "outputs": [
    {
     "name": "stderr",
     "output_type": "stream",
     "text": [
      "2023-05-26 21:16:52.460158: I tensorflow/compiler/xla/stream_executor/cuda/cuda_dnn.cc:424] Loaded cuDNN version 8800\n"
     ]
    }
   ],
   "source": [
    "\n",
    "tf_model = tf.saved_model.load(f\"{model_name}.tf\")\n",
    "tf_model.trainable = False\n",
    "\n",
    "tf_ex_x = tf.convert_to_tensor(ex_x.numpy())\n",
    "tf_out = tf_model(**{'conv1': tf.expand_dims(tf_ex_x[0], 0)})"
   ]
  },
  {
   "cell_type": "code",
   "execution_count": 20,
   "metadata": {},
   "outputs": [
    {
     "data": {
      "text/plain": [
       "True"
      ]
     },
     "execution_count": 20,
     "metadata": {},
     "output_type": "execute_result"
    }
   ],
   "source": [
    "np.alltrue((tf_out[\"19\"] > 0.5) == (dumb(ex_x_1) > 0.5))"
   ]
  },
  {
   "cell_type": "code",
   "execution_count": 21,
   "metadata": {},
   "outputs": [
    {
     "name": "stderr",
     "output_type": "stream",
     "text": [
      "2023-05-26 21:16:58.406457: W tensorflow/compiler/mlir/lite/python/tf_tfl_flatbuffer_helpers.cc:364] Ignored output_format.\n",
      "2023-05-26 21:16:58.406487: W tensorflow/compiler/mlir/lite/python/tf_tfl_flatbuffer_helpers.cc:367] Ignored drop_control_dependency.\n",
      "2023-05-26 21:16:58.407773: I tensorflow/cc/saved_model/reader.cc:45] Reading SavedModel from: 10k_cnn.tf\n",
      "2023-05-26 21:16:58.408215: I tensorflow/cc/saved_model/reader.cc:89] Reading meta graph with tags { serve }\n",
      "2023-05-26 21:16:58.408225: I tensorflow/cc/saved_model/reader.cc:130] Reading SavedModel debug info (if present) from: 10k_cnn.tf\n",
      "2023-05-26 21:16:58.408661: I tensorflow/core/common_runtime/process_util.cc:146] Creating new thread pool with default inter op setting: 2. Tune using inter_op_parallelism_threads for best performance.\n",
      "2023-05-26 21:16:58.409607: I tensorflow/compiler/mlir/mlir_graph_optimization_pass.cc:353] MLIR V1 optimization pass is not enabled\n",
      "2023-05-26 21:16:58.409996: I tensorflow/cc/saved_model/loader.cc:231] Restoring SavedModel bundle.\n",
      "2023-05-26 21:16:58.418453: I tensorflow/cc/saved_model/loader.cc:215] Running initialization op on SavedModel bundle at path: 10k_cnn.tf\n",
      "2023-05-26 21:16:58.423909: I tensorflow/cc/saved_model/loader.cc:314] SavedModel load for tags { serve }; Status: success: OK. Took 16137 microseconds.\n",
      "2023-05-26 21:16:58.463797: I tensorflow/compiler/mlir/tensorflow/utils/dump_mlir_util.cc:269] disabling MLIR crash reproducer, set env var `MLIR_CRASH_REPRODUCER_DIRECTORY` to enable.\n",
      "2023-05-26 21:16:58.551427: I tensorflow/compiler/mlir/lite/flatbuffer_export.cc:2116] Estimated count of arithmetic ops: 0.214 M  ops, equivalently 0.107 M  MACs\n"
     ]
    }
   ],
   "source": [
    "converter = tf.lite.TFLiteConverter.from_saved_model(f\"{model_name}.tf\")\n",
    "tflite_model = converter.convert()\n",
    "\n",
    "# Save the model\n",
    "with open(f\"{model_name}.tflite\", 'wb') as f:\n",
    "    f.write(tflite_model)"
   ]
  },
  {
   "cell_type": "code",
   "execution_count": 22,
   "metadata": {},
   "outputs": [
    {
     "name": "stderr",
     "output_type": "stream",
     "text": [
      "2023-05-26 21:17:02.575469: W tensorflow/compiler/mlir/lite/python/tf_tfl_flatbuffer_helpers.cc:364] Ignored output_format.\n",
      "2023-05-26 21:17:02.575497: W tensorflow/compiler/mlir/lite/python/tf_tfl_flatbuffer_helpers.cc:367] Ignored drop_control_dependency.\n",
      "2023-05-26 21:17:02.575741: I tensorflow/cc/saved_model/reader.cc:45] Reading SavedModel from: 10k_cnn.tf\n",
      "2023-05-26 21:17:02.576184: I tensorflow/cc/saved_model/reader.cc:89] Reading meta graph with tags { serve }\n",
      "2023-05-26 21:17:02.576195: I tensorflow/cc/saved_model/reader.cc:130] Reading SavedModel debug info (if present) from: 10k_cnn.tf\n",
      "2023-05-26 21:17:02.577340: I tensorflow/cc/saved_model/loader.cc:231] Restoring SavedModel bundle.\n",
      "2023-05-26 21:17:02.585480: I tensorflow/cc/saved_model/loader.cc:215] Running initialization op on SavedModel bundle at path: 10k_cnn.tf\n",
      "2023-05-26 21:17:02.591227: I tensorflow/cc/saved_model/loader.cc:314] SavedModel load for tags { serve }; Status: success: OK. Took 15486 microseconds.\n",
      "2023-05-26 21:17:02.630897: I tensorflow/compiler/mlir/lite/flatbuffer_export.cc:2116] Estimated count of arithmetic ops: 0.214 M  ops, equivalently 0.107 M  MACs\n",
      "fully_quantize: 0, inference_type: 6, input_inference_type: INT8, output_inference_type: INT8\n",
      "2023-05-26 21:17:03.350851: I tensorflow/compiler/mlir/lite/flatbuffer_export.cc:2116] Estimated count of arithmetic ops: 0.214 M  ops, equivalently 0.107 M  MACs\n"
     ]
    }
   ],
   "source": [
    "converter.optimizations = [tf.lite.Optimize.DEFAULT]\n",
    "\n",
    "num_calibration_steps = 10\n",
    "def representative_dataset_gen():\n",
    "    for sample in tf_ex_x:\n",
    "        #print(sample.shape)\n",
    "        yield [tf.expand_dims(sample, 0)]\n",
    "\n",
    "converter.representative_dataset = representative_dataset_gen\n",
    "converter.target_spec.supported_ops = [tf.lite.OpsSet.TFLITE_BUILTINS_INT8]\n",
    "converter.inference_input_type = tf.int8\n",
    "converter.inference_output_type = tf.int8\n",
    "tflite_quant_model = converter.convert()"
   ]
  },
  {
   "cell_type": "code",
   "execution_count": 23,
   "metadata": {},
   "outputs": [
    {
     "data": {
      "text/plain": [
       "(46784, 15032)"
      ]
     },
     "execution_count": 23,
     "metadata": {},
     "output_type": "execute_result"
    }
   ],
   "source": [
    "with open(f\"{model_name}_i8.tflite\", 'wb') as f:\n",
    "    f.write(tflite_quant_model)\n",
    "    \n",
    "os.path.getsize(f\"{model_name}.tflite\"), os.path.getsize(f\"{model_name}_i8.tflite\")"
   ]
  },
  {
   "cell_type": "code",
   "execution_count": 24,
   "metadata": {},
   "outputs": [],
   "source": [
    "interpreter = tf.lite.Interpreter(f\"{model_name}_i8.tflite\")"
   ]
  },
  {
   "cell_type": "code",
   "execution_count": 35,
   "metadata": {},
   "outputs": [
    {
     "data": {
      "text/plain": [
       "[{'name': 'serving_default_conv1:0',\n",
       "  'index': 0,\n",
       "  'shape': array([ 1,  1, 36, 36], dtype=int32),\n",
       "  'shape_signature': array([ 1,  1, 36, 36], dtype=int32),\n",
       "  'dtype': numpy.int8,\n",
       "  'quantization': (0.003921568859368563, -128),\n",
       "  'quantization_parameters': {'scales': array([0.00392157], dtype=float32),\n",
       "   'zero_points': array([-128], dtype=int32),\n",
       "   'quantized_dimension': 0},\n",
       "  'sparsity_parameters': {}}]"
      ]
     },
     "execution_count": 35,
     "metadata": {},
     "output_type": "execute_result"
    }
   ],
   "source": [
    "interpreter.get_input_details()"
   ]
  },
  {
   "cell_type": "code",
   "execution_count": 25,
   "metadata": {},
   "outputs": [
    {
     "data": {
      "text/plain": [
       "(0.003921568859368563, -128, 0.00390625, -128)"
      ]
     },
     "execution_count": 25,
     "metadata": {},
     "output_type": "execute_result"
    }
   ],
   "source": [
    "input_scale, input_zero_point = interpreter.get_input_details()[0][\"quantization\"]\n",
    "output_scale, output_zero_point = interpreter.get_output_details()[0][\"quantization\"]\n",
    "input_scale, input_zero_point, output_scale, output_zero_point"
   ]
  },
  {
   "cell_type": "code",
   "execution_count": 26,
   "metadata": {},
   "outputs": [
    {
     "data": {
      "text/plain": [
       "tensor([[[[0.6564, 0.6574, 0.6236,  ..., 0.1596, 0.1707, 0.1879],\n",
       "          [0.6574, 0.6909, 0.6581,  ..., 0.1566, 0.1548, 0.1847],\n",
       "          [0.6866, 0.6871, 0.7098,  ..., 0.1638, 0.1721, 0.1867],\n",
       "          ...,\n",
       "          [0.7892, 0.7936, 0.7779,  ..., 0.4176, 0.4253, 0.4071],\n",
       "          [0.7812, 0.7793, 0.7575,  ..., 0.4373, 0.4384, 0.4196],\n",
       "          [0.7661, 0.7463, 0.7470,  ..., 0.4608, 0.4438, 0.4421]]]])"
      ]
     },
     "execution_count": 26,
     "metadata": {},
     "output_type": "execute_result"
    }
   ],
   "source": [
    "ex_x_1"
   ]
  },
  {
   "cell_type": "code",
   "execution_count": 45,
   "metadata": {},
   "outputs": [
    {
     "data": {
      "text/plain": [
       "(array([[0.99609375]]),\n",
       " <tf.Tensor: shape=(1, 1), dtype=float32, numpy=array([[1.]], dtype=float32)>,\n",
       " tensor([[1.]], grad_fn=<SigmoidBackward0>))"
      ]
     },
     "execution_count": 45,
     "metadata": {},
     "output_type": "execute_result"
    }
   ],
   "source": [
    "sig = interpreter.get_signature_runner()\n",
    "input_q = tf.cast(tf.expand_dims(tf_ex_x[0], 0) / input_scale + input_zero_point, tf.int8)\n",
    "output = sig(conv1=input_q)\n",
    "(output[\"19\"].astype(int) - output_zero_point) * output_scale, tf_out['19'], dumb(ex_x_1)"
   ]
  },
  {
   "cell_type": "code",
   "execution_count": 28,
   "metadata": {},
   "outputs": [
    {
     "data": {
      "text/plain": [
       "<tf.Tensor: shape=(1, 1, 36, 36), dtype=int8, numpy=\n",
       "array([[[[0, 0, 0, ..., 1, 1, 1],\n",
       "         [0, 0, 0, ..., 1, 1, 1],\n",
       "         [0, 0, 0, ..., 1, 1, 1],\n",
       "         ...,\n",
       "         [0, 0, 0, ..., 1, 1, 1],\n",
       "         [0, 0, 0, ..., 1, 1, 1],\n",
       "         [0, 0, 0, ..., 1, 1, 1]]]], dtype=int8)>"
      ]
     },
     "execution_count": 28,
     "metadata": {},
     "output_type": "execute_result"
    }
   ],
   "source": [
    "input_q2 = tf.cast(tf.expand_dims(tf_ex_x[0], 0) * 255, tf.int8) ^ 0x80\n",
    "input_q - input_q2"
   ]
  },
  {
   "cell_type": "code",
   "execution_count": 46,
   "metadata": {},
   "outputs": [],
   "source": [
    "quant_name = f\"{model_name}_i8.tflite\"\n",
    "!xxd -i {quant_name} > model_data.cpp"
   ]
  },
  {
   "cell_type": "code",
   "execution_count": 26,
   "metadata": {},
   "outputs": [
    {
     "name": "stdout",
     "output_type": "stream",
     "text": [
      "2023-05-18 14:33:33.756297: I tensorflow/core/platform/cpu_feature_guard.cc:182] This TensorFlow binary is optimized to use available CPU instructions in performance-critical operations.\n",
      "To enable the following instructions: FMA, in other operations, rebuild TensorFlow with the appropriate compiler flags.\n",
      "/usr/lib/python3.11/site-packages/h5py/__init__.py:36: UserWarning: h5py is running against HDF5 1.14.1 when it was built against 1.14.0, this may cause problems\n",
      "  _warn((\"h5py is running against HDF5 {0} when it was built against {1}, \"\n"
     ]
    }
   ],
   "source": [
    "!python -m tensorflow.lite.tools.visualize {quant_name} {quant_name}.html"
   ]
  },
  {
   "cell_type": "code",
   "execution_count": 41,
   "metadata": {},
   "outputs": [],
   "source": [
    "morse = {'A': '.-',     'B': '-...',   'C': '-.-.', \n",
    "        'D': '-..',    'E': '.',      'F': '..-.',\n",
    "        'G': '--.',    'H': '....',   'I': '..',\n",
    "        'J': '.---',   'K': '-.-',    'L': '.-..',\n",
    "        'M': '--',     'N': '-.',     'O': '---',\n",
    "        'P': '.--.',   'Q': '--.-',   'R': '.-.',\n",
    "        'S': '...',    'T': '-',      'U': '..-',\n",
    "        'V': '...-',   'W': '.--',    'X': '-..-',\n",
    "        'Y': '-.--',   'Z': '--..',\n",
    "\n",
    "        '0': '-----',  '1': '.----',  '2': '..---',\n",
    "        '3': '...--',  '4': '....-',  '5': '.....',\n",
    "        '6': '-....',  '7': '--...',  '8': '---..',\n",
    "        '9': '----.',\n",
    "\n",
    "        '.': '.-.-.-', ',': '--..--', '?': '..--..',\n",
    "        \"'\": \".----.\", \"!\": \"-.-.--\", \"/\": \"-..-.\",\n",
    "        \"(\": \"-.--.\", \")\": \"-.--.-\", \"&\": \".-...\",\n",
    "        \":\": \"---...\", \";\": \"-.-.-.\", \"=\": \"-...-\",\n",
    "        \"+\": \".-.-.\", \"-\": \"-....-\", \"_\": \"..--.-\",\n",
    "        \"\\\"\": \".-..-.\", \"$\": \"...-..-\", \"@\": \".--.-.\",\n",
    "        }\n"
   ]
  },
  {
   "cell_type": "code",
   "execution_count": 45,
   "metadata": {},
   "outputs": [
    {
     "data": {
      "text/plain": [
       "(256,\n",
       " '**ETIANMSURWDKGOHVF*L*PJBXCYZQ**54*3***2&*+****16=/***(*7***8*90************?_****\"**.****@***\\'**-********;!*)*****,****:****************$**********************************************************************************************************************')"
      ]
     },
     "execution_count": 45,
     "metadata": {},
     "output_type": "execute_result"
    }
   ],
   "source": [
    "#sorted(morse.items(), key=lambda x: (-len(x[1]), x[1]), reverse=True)\n",
    "\n",
    "morse_tree = [\"*\"] * 2**(max(len(v) for v in morse.values())+1)\n",
    "for k, v in morse.items():\n",
    "    i = 1\n",
    "    for c in v:\n",
    "        i = 2*i + int(c == \"-\")\n",
    "    assert(morse_tree[i] == \"*\")\n",
    "    morse_tree[i] = k\n",
    "morse_tree = \"\".join(morse_tree)\n",
    "len(morse_tree), morse_tree"
   ]
  },
  {
   "attachments": {},
   "cell_type": "markdown",
   "metadata": {},
   "source": []
  }
 ],
 "metadata": {
  "kernelspec": {
   "display_name": "Python 3",
   "language": "python",
   "name": "python3"
  },
  "language_info": {
   "codemirror_mode": {
    "name": "ipython",
    "version": 3
   },
   "file_extension": ".py",
   "mimetype": "text/x-python",
   "name": "python",
   "nbconvert_exporter": "python",
   "pygments_lexer": "ipython3",
   "version": "3.11.3"
  },
  "orig_nbformat": 4
 },
 "nbformat": 4,
 "nbformat_minor": 2
}
